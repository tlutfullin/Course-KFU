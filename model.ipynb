{
 "cells": [
  {
   "cell_type": "code",
   "execution_count": 1,
   "metadata": {
    "ExecuteTime": {
     "end_time": "2023-06-03T01:30:07.795194Z",
     "start_time": "2023-06-03T01:30:07.790363Z"
    }
   },
   "outputs": [],
   "source": [
    "import pandas as pd\n",
    "import numpy as np"
   ]
  },
  {
   "cell_type": "code",
   "execution_count": 2,
   "metadata": {},
   "outputs": [],
   "source": [
    "df_news = pd.read_csv('news.csv')"
   ]
  },
  {
   "cell_type": "code",
   "execution_count": 3,
   "metadata": {},
   "outputs": [
    {
     "data": {
      "text/html": [
       "<div>\n",
       "<style scoped>\n",
       "    .dataframe tbody tr th:only-of-type {\n",
       "        vertical-align: middle;\n",
       "    }\n",
       "\n",
       "    .dataframe tbody tr th {\n",
       "        vertical-align: top;\n",
       "    }\n",
       "\n",
       "    .dataframe thead th {\n",
       "        text-align: right;\n",
       "    }\n",
       "</style>\n",
       "<table border=\"1\" class=\"dataframe\">\n",
       "  <thead>\n",
       "    <tr style=\"text-align: right;\">\n",
       "      <th></th>\n",
       "      <th>text</th>\n",
       "      <th>label</th>\n",
       "    </tr>\n",
       "  </thead>\n",
       "  <tbody>\n",
       "    <tr>\n",
       "      <th>0</th>\n",
       "      <td>Помощник депутата Палаты представителей: мы да...</td>\n",
       "      <td>1</td>\n",
       "    </tr>\n",
       "    <tr>\n",
       "      <th>1</th>\n",
       "      <td>Вы когда-нибудь чувствовали, что ваша жизнь дв...</td>\n",
       "      <td>0</td>\n",
       "    </tr>\n",
       "    <tr>\n",
       "      <th>2</th>\n",
       "      <td>Почему правда может привести к увольнению 29 о...</td>\n",
       "      <td>1</td>\n",
       "    </tr>\n",
       "    <tr>\n",
       "      <th>3</th>\n",
       "      <td>Выявлено 15 мирных жителей, погибших в результ...</td>\n",
       "      <td>1</td>\n",
       "    </tr>\n",
       "    <tr>\n",
       "      <th>4</th>\n",
       "      <td>Распечатать\\nИранская женщина была приговорена...</td>\n",
       "      <td>1</td>\n",
       "    </tr>\n",
       "    <tr>\n",
       "      <th>...</th>\n",
       "      <td>...</td>\n",
       "      <td>...</td>\n",
       "    </tr>\n",
       "    <tr>\n",
       "      <th>14995</th>\n",
       "      <td>САКРАМЕНТО. Когда Берни Сандерс провел митинг ...</td>\n",
       "      <td>0</td>\n",
       "    </tr>\n",
       "    <tr>\n",
       "      <th>14996</th>\n",
       "      <td>В конце времен врагами человека станут его дом...</td>\n",
       "      <td>1</td>\n",
       "    </tr>\n",
       "    <tr>\n",
       "      <th>14997</th>\n",
       "      <td>ГОНКОНГ. Сотни гриндов, заплывших в мелководну...</td>\n",
       "      <td>0</td>\n",
       "    </tr>\n",
       "    <tr>\n",
       "      <th>14998</th>\n",
       "      <td>20:20\\n( ͡° ͜ʖ ͡°)\\n20:33\\nHaloPro2121\\nсмешно...</td>\n",
       "      <td>1</td>\n",
       "    </tr>\n",
       "    <tr>\n",
       "      <th>14999</th>\n",
       "      <td>(Хотите получить этот брифинг по электронной п...</td>\n",
       "      <td>0</td>\n",
       "    </tr>\n",
       "  </tbody>\n",
       "</table>\n",
       "<p>15000 rows × 2 columns</p>\n",
       "</div>"
      ],
      "text/plain": [
       "                                                    text  label\n",
       "0      Помощник депутата Палаты представителей: мы да...      1\n",
       "1      Вы когда-нибудь чувствовали, что ваша жизнь дв...      0\n",
       "2      Почему правда может привести к увольнению 29 о...      1\n",
       "3      Выявлено 15 мирных жителей, погибших в результ...      1\n",
       "4      Распечатать\\nИранская женщина была приговорена...      1\n",
       "...                                                  ...    ...\n",
       "14995  САКРАМЕНТО. Когда Берни Сандерс провел митинг ...      0\n",
       "14996  В конце времен врагами человека станут его дом...      1\n",
       "14997  ГОНКОНГ. Сотни гриндов, заплывших в мелководну...      0\n",
       "14998  20:20\\n( ͡° ͜ʖ ͡°)\\n20:33\\nHaloPro2121\\nсмешно...      1\n",
       "14999  (Хотите получить этот брифинг по электронной п...      0\n",
       "\n",
       "[15000 rows x 2 columns]"
      ]
     },
     "execution_count": 3,
     "metadata": {},
     "output_type": "execute_result"
    }
   ],
   "source": [
    "df_news\n"
   ]
  },
  {
   "cell_type": "code",
   "execution_count": 4,
   "metadata": {},
   "outputs": [
    {
     "data": {
      "text/plain": [
       "label\n",
       "0    8324\n",
       "1    6676\n",
       "Name: count, dtype: int64"
      ]
     },
     "execution_count": 4,
     "metadata": {},
     "output_type": "execute_result"
    }
   ],
   "source": [
    "df_news.label.value_counts()"
   ]
  },
  {
   "cell_type": "code",
   "execution_count": 5,
   "metadata": {},
   "outputs": [
    {
     "name": "stderr",
     "output_type": "stream",
     "text": [
      "[nltk_data] Downloading package stopwords to /home/timur/nltk_data...\n",
      "[nltk_data]   Package stopwords is already up-to-date!\n"
     ]
    }
   ],
   "source": [
    "import nltk\n",
    "from nltk.corpus import stopwords\n",
    "from nltk.tokenize import RegexpTokenizer\n",
    "import pymorphy2\n",
    "\n",
    "nltk.download('stopwords')\n",
    "stop_words = set(stopwords.words('russian'))\n",
    "nltk_tokenizer = RegexpTokenizer(r'[а-яёa-z]+')\n",
    "\n",
    "morph = pymorphy2.MorphAnalyzer()\n"
   ]
  },
  {
   "cell_type": "code",
   "execution_count": 6,
   "metadata": {},
   "outputs": [],
   "source": [
    "def text_preprocessing(text):\n",
    "    words = nltk_tokenizer.tokenize(text.lower())\n",
    "    lem_text = [morph.parse(w)[0].normal_form for w in words if w not in stop_words]\n",
    "\n",
    "    return lem_text"
   ]
  },
  {
   "cell_type": "code",
   "execution_count": 7,
   "metadata": {},
   "outputs": [],
   "source": [
    "import gensim\n",
    "import os\n",
    "\n",
    "if not os.path.isfile('220.zip'):\n",
    "  !wget http://vectors.nlpl.eu/repository/20/220.zip\n",
    "  !unzip 220.zip\n",
    "\n",
    "w2v = gensim.models.KeyedVectors.load_word2vec_format('model.bin', binary=True)"
   ]
  },
  {
   "cell_type": "code",
   "execution_count": 25,
   "metadata": {},
   "outputs": [],
   "source": [
    "import wget"
   ]
  },
  {
   "cell_type": "code",
   "execution_count": 26,
   "metadata": {},
   "outputs": [],
   "source": [
    "import ufal.udpipe as udp\n",
    "import corpy.udpipe as crp\n",
    "\n",
    "# Скачивание модели UDPipe, обученную на русском языке\n",
    "udp_model_url = r'https://lindat.mff.cuni.cz/repository/xmlui/bitstream/handle/11234/1-3131/russian-syntagrus-ud-2.5-191206.udpipe'\n",
    "udp_model_filename = udp_model_url.rsplit('/', 1)[-1]\n",
    "if not os.path.isfile(udp_model_filename):\n",
    "    wget.download(udp_model_url)\n",
    "\n",
    "# Загрузка модели в оболочку corpy\n",
    "corpy_model = crp.Model(udp_model_filename)\n",
    "\n"
   ]
  },
  {
   "cell_type": "code",
   "execution_count": 27,
   "metadata": {},
   "outputs": [],
   "source": [
    "# Функция для тегирования слов\n",
    "def udp_tagging(lem_text):\n",
    "    sents = [list(corpy_model.process(w)) for w in lem_text]\n",
    "    tagged_words = [s[0].words[1].form + '_' + s[0].words[1].upostag for s in sents if s]\n",
    "\n",
    "    return tagged_words"
   ]
  },
  {
   "cell_type": "code",
   "execution_count": null,
   "metadata": {},
   "outputs": [],
   "source": [
    "X_not_filtered_texts = df_news['text'].apply(lambda x: udp_tagging(text_preprocessing(x))).array\n"
   ]
  },
  {
   "cell_type": "code",
   "execution_count": null,
   "metadata": {},
   "outputs": [],
   "source": [
    "X_filtered_texts = []\n",
    "for text in X_not_filtered_texts:\n",
    "    words = []\n",
    "    for word in text:\n",
    "        if word in w2v.vocab:\n",
    "            words.append(word)\n",
    "        else:\n",
    "            pass\n",
    "    X_filtered_texts.append(words)"
   ]
  },
  {
   "cell_type": "code",
   "execution_count": null,
   "metadata": {},
   "outputs": [],
   "source": [
    "from sklearn.model_selection import train_test_split\n",
    "\n",
    "X = np.array([list(map(lambda x: w2v.vocab[x].index, t)) for t in X_filtered_texts]).astype('float32')\n",
    "\n",
    "Y = np.array(df_news['label']).astype('float32').reshape((-1,1))\n",
    "\n",
    "x_train, x_test, y_train, y_test = train_test_split(X, Y)"
   ]
  },
  {
   "cell_type": "code",
   "execution_count": null,
   "metadata": {},
   "outputs": [],
   "source": [
    "from tensorflow.keras.models import\n",
    "\n",
    "from tensorflow.keras.layers import Dense, Dropout\n",
    "\n",
    "seq_model = Sequential()\n",
    "\n",
    "seq_model.add(w2v.wv.get_keras_embedding(train_embeddings=False))\n",
    "seq_model.add(Dense(50, activation='relu'))\n",
    "seq_model.add(Dropout(0.6))\n",
    "seq_model.add(Dense(1, activation='sigmoid'))\n",
    "\n",
    "seq_model.compile(loss='mean_squared_logarithmic_error',\n",
    "                  optimizer='adam', metrics=['accuracy'])"
   ]
  },
  {
   "cell_type": "code",
   "execution_count": null,
   "metadata": {},
   "outputs": [],
   "source": [
    "seq_model.fit(x_train, y_train, epochs=20,\n",
    "              validation_data=(x_test, y_test))"
   ]
  },
  {
   "cell_type": "code",
   "execution_count": null,
   "metadata": {},
   "outputs": [],
   "source": [
    "fake_text = 'Центробанк России готовится заморозить вклады населения…'\n",
    "\n",
    "fake_preproc = udp_tagging(text_preprocessing(fake_text))\n",
    "\n",
    "fake_words_tagged = []\n",
    "for word in fake_preproc:\n",
    "    if word in w2v.vocab:\n",
    "    fake_words_tagged.append(word)\n",
    "\n",
    "fake_indexed = np.array(list(map(lambda x: w2v.vocab[x].index, fake_words_tagged))).astype('float32')\n",
    "\n",
    "seq_model.predict(fake_indexed)"
   ]
  },
  {
   "cell_type": "code",
   "execution_count": null,
   "metadata": {},
   "outputs": [],
   "source": [
    "import joblib\n",
    "\n",
    "# Сохранение модели\n",
    "joblib.dump(seq_model, 'model.pkl')\n",
    "\n",
    "# Загрузка сохраненной модели\n",
    "loaded_model = joblib.load('model.pkl')"
   ]
  },
  {
   "cell_type": "code",
   "execution_count": null,
   "metadata": {},
   "outputs": [],
   "source": []
  },
  {
   "cell_type": "code",
   "execution_count": null,
   "metadata": {},
   "outputs": [],
   "source": []
  },
  {
   "cell_type": "code",
   "execution_count": null,
   "metadata": {},
   "outputs": [],
   "source": []
  },
  {
   "cell_type": "code",
   "execution_count": null,
   "metadata": {},
   "outputs": [],
   "source": []
  },
  {
   "cell_type": "code",
   "execution_count": null,
   "metadata": {},
   "outputs": [],
   "source": []
  },
  {
   "cell_type": "code",
   "execution_count": null,
   "metadata": {},
   "outputs": [],
   "source": []
  },
  {
   "cell_type": "code",
   "execution_count": null,
   "metadata": {
    "ExecuteTime": {
     "start_time": "2023-06-03T11:09:00.038660Z",
     "end_time": "2023-06-03T11:09:00.041138Z"
    }
   },
   "outputs": [],
   "source": []
  },
  {
   "cell_type": "code",
   "execution_count": null,
   "outputs": [],
   "source": [],
   "metadata": {
    "collapsed": false,
    "ExecuteTime": {
     "start_time": "2023-06-03T11:09:00.039471Z",
     "end_time": "2023-06-03T11:09:00.045388Z"
    }
   }
  },
  {
   "cell_type": "code",
   "execution_count": null,
   "outputs": [],
   "source": [],
   "metadata": {
    "collapsed": false,
    "ExecuteTime": {
     "start_time": "2023-06-03T11:09:00.039942Z",
     "end_time": "2023-06-03T11:09:00.045927Z"
    }
   }
  },
  {
   "cell_type": "code",
   "execution_count": null,
   "outputs": [],
   "source": [],
   "metadata": {
    "collapsed": false,
    "ExecuteTime": {
     "start_time": "2023-06-03T11:09:00.040391Z",
     "end_time": "2023-06-03T11:09:00.046292Z"
    }
   }
  },
  {
   "cell_type": "code",
   "execution_count": null,
   "outputs": [],
   "source": [],
   "metadata": {
    "collapsed": false,
    "ExecuteTime": {
     "start_time": "2023-06-03T11:09:00.040868Z",
     "end_time": "2023-06-03T11:09:00.046677Z"
    }
   }
  },
  {
   "cell_type": "code",
   "execution_count": null,
   "outputs": [],
   "source": [],
   "metadata": {
    "collapsed": false,
    "ExecuteTime": {
     "start_time": "2023-06-03T11:09:00.044731Z",
     "end_time": "2023-06-03T11:09:00.047226Z"
    }
   }
  },
  {
   "cell_type": "code",
   "execution_count": null,
   "outputs": [],
   "source": [],
   "metadata": {
    "collapsed": false,
    "ExecuteTime": {
     "start_time": "2023-06-03T11:09:00.045780Z",
     "end_time": "2023-06-03T11:09:00.049948Z"
    }
   }
  },
  {
   "cell_type": "code",
   "execution_count": null,
   "outputs": [],
   "source": [],
   "metadata": {
    "collapsed": false
   }
  }
 ],
 "metadata": {
  "kernelspec": {
   "display_name": "Python 3 (ipykernel)",
   "language": "python",
   "name": "python3"
  },
  "language_info": {
   "codemirror_mode": {
    "name": "ipython",
    "version": 3
   },
   "file_extension": ".py",
   "mimetype": "text/x-python",
   "name": "python",
   "nbconvert_exporter": "python",
   "pygments_lexer": "ipython3",
   "version": "3.10.10"
  }
 },
 "nbformat": 4,
 "nbformat_minor": 1
}
